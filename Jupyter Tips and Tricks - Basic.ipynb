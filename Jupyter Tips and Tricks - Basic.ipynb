{
 "cells": [
  {
   "cell_type": "markdown",
   "metadata": {
    "slideshow": {
     "slide_type": "slide"
    }
   },
   "source": [
    "\n",
    "\n",
    "# Jupyter Tips & Tricks\n",
    "\n",
    "**Data Science Camp 2017 **\n",
    "## Github: https://github.com/Ram-N/jupyter-tips\n",
    "\n",
    "\n",
    "<img src = \"images/logo.jpg\", width=\"400\" align=\"left\">\n",
    "<br><br><br>\n",
    "\n",
    "Ram Narasimhan"
   ]
  },
  {
   "cell_type": "markdown",
   "metadata": {
    "slideshow": {
     "slide_type": "slide"
    }
   },
   "source": [
    "If you don't have Jupyter Installed:\n",
    "\n",
    "# https://try.jupyter.org/\n",
    "\n",
    "### Go to the New button and launch a Python 3 notebook"
   ]
  },
  {
   "cell_type": "markdown",
   "metadata": {
    "slideshow": {
     "slide_type": "slide"
    }
   },
   "source": [
    "\n",
    "<img src = \"images/qualified_quote.jpg\", width=\"500\" align=\"left\">\n",
    "<img src = \"images/nadella_quote.jpg\", width=\"500\" align=\"right\">\n"
   ]
  },
  {
   "cell_type": "markdown",
   "metadata": {
    "slideshow": {
     "slide_type": "slide"
    }
   },
   "source": [
    "# What is Jupyter Notebook?\n",
    "\n",
    "**<div class=\"alert alert-block alert-warning\">A notebook is an interactive document containing code, ouput, text, plots and images.\n",
    "</div> **\n",
    "\n",
    "A notebook is saved in a file with the **`.ipynb extension`**. \n",
    "\n",
    "(This file is a plain text file storing a JSON data structure.)\n",
    "\n",
    "<div class=\"alert alert-block alert-info\">Tip: This is in itself a Jupyter Notebook.</div>"
   ]
  },
  {
   "cell_type": "markdown",
   "metadata": {
    "collapsed": true,
    "slideshow": {
     "slide_type": "slide"
    }
   },
   "source": [
    "# What we will cover\n",
    "\n",
    "- [Basic Editing Tips](#editing)\n",
    "- [Cell-Related Tips](#cell)\n",
    "- [Tips related to Getting Help](#help)\n",
    "- [Basic Jupyter Tips](#jupyter)\n",
    "- [Notebook-related Tips](#nbk)\n"
   ]
  },
  {
   "cell_type": "markdown",
   "metadata": {
    "slideshow": {
     "slide_type": "slide"
    }
   },
   "source": [
    "<a id=\"editing\"></a>\n",
    "# <div class=\"alert alert-block alert-warning\"> Section: Editing Related Tips </div>\n"
   ]
  },
  {
   "cell_type": "markdown",
   "metadata": {
    "slideshow": {
     "slide_type": "slide"
    }
   },
   "source": [
    "# In a notebook, you can only be in one of 2 MODES"
   ]
  },
  {
   "cell_type": "markdown",
   "metadata": {
    "slideshow": {
     "slide_type": "fragment"
    }
   },
   "source": [
    "The **Edit mode** to write code (the selected cell has a green border, and a pen icon appears at the top right of the interface). Click inside a cell to enable the edit mode for this cell (you need to double-click with Markdown cells)."
   ]
  },
  {
   "cell_type": "markdown",
   "metadata": {
    "slideshow": {
     "slide_type": "fragment"
    }
   },
   "source": [
    "Use the **Command mode** to operate on cells (the selected cell has a gray border, and there is no pencil icon). Click outside the text area of a cell to enable the command mode (you can also press the Esc key)."
   ]
  },
  {
   "cell_type": "markdown",
   "metadata": {
    "slideshow": {
     "slide_type": "slide"
    }
   },
   "source": [
    "### Cell Related Tip\n",
    "\n",
    "# Q: How can we tell which mode we are in?\n"
   ]
  },
  {
   "cell_type": "markdown",
   "metadata": {
    "slideshow": {
     "slide_type": "fragment"
    }
   },
   "source": [
    "Tip: You can tell it in at least two ways.\n",
    "\n",
    "Look at the color of your cell border.\n",
    "\n",
    "Look at the Edit (or the Pencil Icon) at the top left"
   ]
  },
  {
   "cell_type": "markdown",
   "metadata": {
    "slideshow": {
     "slide_type": "slide"
    }
   },
   "source": [
    "### Cell Related Tip\n",
    "# Q: How can we switch from one mode to the other?\n"
   ]
  },
  {
   "cell_type": "markdown",
   "metadata": {
    "slideshow": {
     "slide_type": "fragment"
    }
   },
   "source": [
    "Tip: To get to the command mode, just press the ESC key <br>\n",
    "\n",
    "To get to the Edit mode, just click (or double click) the cell, or select the Cell and hit `Enter`.\n",
    "\n"
   ]
  },
  {
   "cell_type": "markdown",
   "metadata": {
    "slideshow": {
     "slide_type": "slide"
    }
   },
   "source": [
    "<a id=\"cell\"></a>\n",
    "# <div class=\"alert alert-block alert-warning\"> Section: Cell Related Tips </div>\n"
   ]
  },
  {
   "cell_type": "markdown",
   "metadata": {
    "slideshow": {
     "slide_type": "slide"
    }
   },
   "source": [
    "There are two main types of cells: Markdown cells and code cells:"
   ]
  },
  {
   "cell_type": "markdown",
   "metadata": {
    "slideshow": {
     "slide_type": "fragment"
    }
   },
   "source": [
    "A **Markdown cell** contains rich text. In addition to classic formatting options like bold or italics, we can add links, images, HTML elements, mathematical equations etc."
   ]
  },
  {
   "cell_type": "markdown",
   "metadata": {
    "slideshow": {
     "slide_type": "fragment"
    }
   },
   "source": [
    "A **code cell** contains code to be executed by the kernel. The programming language corresponds to the kernel's language. We will only use Python in this course.\n"
   ]
  },
  {
   "cell_type": "markdown",
   "metadata": {
    "slideshow": {
     "slide_type": "slide"
    }
   },
   "source": [
    "### <font color='blue'> Cell-Related Tip (CELL)</font>\n",
    "\n",
    "\n",
    "Q: How to Add a new cell?\n",
    "    - Above current cell?\n",
    "    - Below current cell\n",
    "\n",
    "Q: How to Delete a cell?\n",
    "    Tip: Command-mode DD, but can also use command-mode-X to cut it.\n",
    "\n",
    "Q. How to Copy and Paste a cell?"
   ]
  },
  {
   "cell_type": "markdown",
   "metadata": {
    "slideshow": {
     "slide_type": "slide"
    }
   },
   "source": [
    "### Mini-exercise...\n",
    "\n",
    "# In an empty cell type \n",
    "`print(hello world!\")` # print \"hello world\" if you are running Python 2.0\n",
    "\n",
    "Run this cell.\n",
    "\n",
    "Now, make a copy of this cell."
   ]
  },
  {
   "cell_type": "markdown",
   "metadata": {
    "slideshow": {
     "slide_type": "slide"
    }
   },
   "source": [
    "## Q. How to Execute a cell?\n",
    "\n",
    "## Q. Run (execute) a cell and stay in the same cell?"
   ]
  },
  {
   "cell_type": "markdown",
   "metadata": {
    "slideshow": {
     "slide_type": "slide"
    }
   },
   "source": [
    "Here are a few keyboard shortcuts when a cell is selected:\n",
    "\n",
    "- Ctrl + Enter: run the cell\n",
    "- Shift + Enter: run the cell and select the cell below\n",
    "- Alt + Enter: run the cell and insert a new cell below\n",
    "- Ctrl + S: save the notebook"
   ]
  },
  {
   "cell_type": "markdown",
   "metadata": {
    "slideshow": {
     "slide_type": "slide"
    }
   },
   "source": [
    "### <font color='blue'> Cell-Related Tip (CELL)</font>\n",
    "\n",
    "# Q: How to Hide (minimize) really long output?\n",
    "\n",
    "Tip: Double click the side to minimize the output...\n"
   ]
  },
  {
   "cell_type": "markdown",
   "metadata": {
    "slideshow": {
     "slide_type": "slide"
    }
   },
   "source": [
    "### <font color='blue'> Cell-Related Tip (CELL)</font>\n",
    "\n",
    "\n",
    "## Q: How to use Auto-completion?\n",
    "\n",
    "If you have used an IDE (good code editor) you know the value of auto-completion. Among many other things, it avoids costly typing errors that might take time to debug.\n",
    "\n",
    "In Jupyter, you can use **Tab** for auto-completion. It will fill the text, if possible. (Can be very useful)\n",
    "![Tab help](images/jupyter_tab_help2.JPG)\n",
    "\n"
   ]
  },
  {
   "cell_type": "markdown",
   "metadata": {
    "slideshow": {
     "slide_type": "slide"
    }
   },
   "source": [
    "<a id=\"help\"></a>\n",
    "# <div class=\"alert alert-block alert-warning\"> Section: Tips related to Getting Help</div>\n",
    "\n",
    "Jupyter comes pre-packaged with Excellent Help. \n",
    "All we have to do is know where to look!"
   ]
  },
  {
   "cell_type": "markdown",
   "metadata": {
    "slideshow": {
     "slide_type": "slide"
    }
   },
   "source": [
    "\n",
    "<img src = \"images/jupyter/j6.png\", align=\"left\">"
   ]
  },
  {
   "cell_type": "markdown",
   "metadata": {
    "slideshow": {
     "slide_type": "slide"
    }
   },
   "source": [
    "### <font color='blue'>  Help-Related Tip (HELP-3)</font>\n",
    "\n",
    "\n",
    "# Q: At least 3 ways to get Help in Jupyter\n",
    "\n"
   ]
  },
  {
   "cell_type": "code",
   "execution_count": 2,
   "metadata": {
    "collapsed": true,
    "slideshow": {
     "slide_type": "slide"
    }
   },
   "outputs": [],
   "source": [
    "?print"
   ]
  },
  {
   "cell_type": "code",
   "execution_count": 3,
   "metadata": {
    "collapsed": true,
    "slideshow": {
     "slide_type": "slide"
    }
   },
   "outputs": [],
   "source": [
    "??print"
   ]
  },
  {
   "cell_type": "code",
   "execution_count": null,
   "metadata": {
    "collapsed": true,
    "slideshow": {
     "slide_type": "slide"
    }
   },
   "outputs": [],
   "source": [
    "help(print)"
   ]
  },
  {
   "cell_type": "markdown",
   "metadata": {
    "slideshow": {
     "slide_type": "slide"
    }
   },
   "source": [
    "# <div class=\"alert alert-block alert-success\"> To check the version of Jupyter, simply go to the Help menu and select \"About\"\n",
    "\n",
    "<img src = \"images/jupyter_version.jpg\", align=\"left\">"
   ]
  },
  {
   "cell_type": "code",
   "execution_count": null,
   "metadata": {
    "collapsed": true,
    "slideshow": {
     "slide_type": "slide"
    }
   },
   "outputs": [],
   "source": [
    "# To get help on ANY command, just type help(name-of-the-command)\n",
    "help(round)"
   ]
  },
  {
   "cell_type": "markdown",
   "metadata": {
    "slideshow": {
     "slide_type": "slide"
    }
   },
   "source": [
    "### <font color='blue'>  Help-Related Tip (HELP)</font>\n",
    "\n",
    "## Q: How to see which arguments are available in a function call?"
   ]
  },
  {
   "cell_type": "markdown",
   "metadata": {
    "slideshow": {
     "slide_type": "fragment"
    }
   },
   "source": [
    "### Tip: type the function call, open parenthesis and then hit Tab\n",
    "    "
   ]
  },
  {
   "cell_type": "code",
   "execution_count": null,
   "metadata": {
    "collapsed": true,
    "slideshow": {
     "slide_type": "slide"
    }
   },
   "outputs": [],
   "source": [
    "print() #now hit tab. It will show the arguments at the very top of a big dropdown"
   ]
  },
  {
   "cell_type": "markdown",
   "metadata": {
    "slideshow": {
     "slide_type": "slide"
    }
   },
   "source": [
    "<a id=\"jupyter\"></a>\n",
    "# <div class=\"alert alert-block alert-warning\"> Section: Basic Jupyter Tips</div>\n"
   ]
  },
  {
   "cell_type": "markdown",
   "metadata": {
    "slideshow": {
     "slide_type": "slide"
    }
   },
   "source": [
    "# Q: From any Notebook, how to get back to you Jupyter Home?\n",
    "\n",
    "### Your Jupyter \"Home Page\" is officially known as the Notebooks Dashboard"
   ]
  },
  {
   "cell_type": "markdown",
   "metadata": {
    "slideshow": {
     "slide_type": "fragment"
    }
   },
   "source": [
    "Tip: Just click on the Jupyter logo at the top left, to get to your \"Jupyter Home\" \n",
    "\n",
    "![](images/logo_click.jpg)"
   ]
  },
  {
   "cell_type": "markdown",
   "metadata": {
    "slideshow": {
     "slide_type": "slide"
    }
   },
   "source": [
    "# Q: How can we tell if the Notebook is busy?"
   ]
  },
  {
   "cell_type": "markdown",
   "metadata": {
    "slideshow": {
     "slide_type": "slide"
    }
   },
   "source": [
    "Here are three ways to tell:\n",
    "\n",
    "The cell will show a \"busy\" indicator (Asterisk) **[*]** \n",
    "\n",
    "![busy](images/cell_busy.jpg)"
   ]
  },
  {
   "cell_type": "markdown",
   "metadata": {
    "slideshow": {
     "slide_type": "slide"
    }
   },
   "source": [
    "<img src=\"images/kernel_busy.jpg\", width=400, align=\"right\">\n",
    "<br><br><br>\n",
    "The Top Right circle will be filled when busy, empty when idle. "
   ]
  },
  {
   "cell_type": "markdown",
   "metadata": {
    "slideshow": {
     "slide_type": "slide"
    }
   },
   "source": [
    "In the browser Tab, you will see three dots. ![](images/tab_busy.jpg)"
   ]
  },
  {
   "cell_type": "code",
   "execution_count": null,
   "metadata": {
    "collapsed": true,
    "slideshow": {
     "slide_type": "slide"
    }
   },
   "outputs": [],
   "source": [
    "#demoing cell/kernel and tab getting busy...\n",
    "import time \n",
    "time.sleep(10)"
   ]
  },
  {
   "cell_type": "markdown",
   "metadata": {
    "slideshow": {
     "slide_type": "slide"
    }
   },
   "source": [
    "<a id=\"nbk\"></a>\n",
    "# <div class=\"alert alert-block alert-warning\"> Section: Notebook-Related Tips </div>\n"
   ]
  },
  {
   "cell_type": "markdown",
   "metadata": {
    "slideshow": {
     "slide_type": "slide"
    }
   },
   "source": [
    "### Notebook Related Tip (NBK-1)\n",
    "\n",
    "# Q: How to save a notebook"
   ]
  },
  {
   "cell_type": "markdown",
   "metadata": {
    "slideshow": {
     "slide_type": "fragment"
    }
   },
   "source": [
    "Tip: Just type Control-S (Command-S) Frequently.\n",
    "\n",
    "(The good news is that the AutoSave makes frequent checkpoints. Default is 120 Seconds, but verify)"
   ]
  },
  {
   "cell_type": "markdown",
   "metadata": {
    "slideshow": {
     "slide_type": "slide"
    }
   },
   "source": [
    "### Notebook Related Tip (NBK-2)\n",
    "\n",
    "## Q: What is a good way to clone a Notebook?\n",
    "\n",
    "Option 1 : Just use \"Make a Copy\" and rename it right away...<br>\n",
    "Option 2 : In the \"home page\" (Dashboard) click the checkbox. Now you can **Duplicate** it, by clicking the Duplicate button\n"
   ]
  },
  {
   "cell_type": "markdown",
   "metadata": {
    "slideshow": {
     "slide_type": "slide"
    }
   },
   "source": [
    "![Questions](images/questions.png)"
   ]
  },
  {
   "cell_type": "markdown",
   "metadata": {
    "slideshow": {
     "slide_type": "slide"
    }
   },
   "source": [
    "# References & Acknowledgements\n",
    "\n",
    "- https://www.packtpub.com/books/content/basics-jupyter-notebook-and-\n",
    "- Jupyter Notebook interface explained at http://jupyter-notebook.readthedocs.org/en/latest/notebook.html\n",
    "\n",
    "People: Damian Avila, Doug Blank, Hiro Shioi, Young Song \n"
   ]
  },
  {
   "cell_type": "markdown",
   "metadata": {
    "collapsed": true,
    "slideshow": {
     "slide_type": "slide"
    }
   },
   "source": [
    "# Appendix\n",
    "\n",
    "Here are a few things about Jupyter that are useful, but not tips per se.\n",
    "I am including them here in the Appendix, in case they are useful for some."
   ]
  },
  {
   "cell_type": "markdown",
   "metadata": {
    "slideshow": {
     "slide_type": "slide"
    }
   },
   "source": [
    "# Basics: before we get to the tips\n",
    "\n",
    "If you are using Jupyter, skip this section and go directly to the Tips"
   ]
  },
  {
   "cell_type": "markdown",
   "metadata": {
    "slideshow": {
     "slide_type": "slide"
    }
   },
   "source": [
    "# The dashboard contains 3 tabs:\n",
    "\n",
    "### Files: shows all files and notebooks in the current directory\n",
    "### Running: shows all kernels currently running on your computer\n",
    "### Clusters: lets you launch kernels for parallel computing"
   ]
  },
  {
   "cell_type": "markdown",
   "metadata": {
    "slideshow": {
     "slide_type": "slide"
    }
   },
   "source": [
    "\n",
    "<img src = \"images/jupyter/j2.png\", align=\"left\">"
   ]
  },
  {
   "cell_type": "markdown",
   "metadata": {
    "slideshow": {
     "slide_type": "slide"
    }
   },
   "source": [
    "Here are the main components of the interface, from top to bottom:\n",
    "\n",
    "- The **notebook name**, which you can change by clicking on it. This is also the name of the .ipynb file.\n",
    "- The **Menu bar** gives you access to several actions pertaining to either the notebook or the kernel.\n",
    "- To the right of the menu bar is the **Kernel name**. You can change the kernel language of your notebook from the Kernel menu.\n",
    "- The **Toolbar** contains icons for common actions. The dropdown menu showing Code lets you change the type of a cell."
   ]
  },
  {
   "cell_type": "markdown",
   "metadata": {
    "slideshow": {
     "slide_type": "slide"
    }
   },
   "source": [
    "\n",
    "<img src = \"images/jupyter/j3.png\", align=\"left\">"
   ]
  },
  {
   "cell_type": "markdown",
   "metadata": {
    "slideshow": {
     "slide_type": "slide"
    }
   },
   "source": [
    "# To start a New Notebook, click the \"NEW\" dropdown... (top right)"
   ]
  },
  {
   "cell_type": "markdown",
   "metadata": {
    "slideshow": {
     "slide_type": "slide"
    }
   },
   "source": [
    "\n",
    "<img src = \"images/jupyter/j4.png\", align=\"left\">"
   ]
  },
  {
   "cell_type": "markdown",
   "metadata": {
    "slideshow": {
     "slide_type": "slide"
    }
   },
   "source": [
    "# Cells \n",
    "\n",
    "These are the basic blocks of a Jupyter Notebook.\n",
    "Inside each cell, you can enter text (Python Code) and when you execute the code (Run it), you will see the cell output.\n",
    "\n",
    "All Python cells (code cells) have a sequence number."
   ]
  },
  {
   "cell_type": "markdown",
   "metadata": {
    "slideshow": {
     "slide_type": "slide"
    }
   },
   "source": [
    "\n",
    "<img src = \"images/jupyter/j5.png\", width=700, align=\"left\">"
   ]
  },
  {
   "cell_type": "markdown",
   "metadata": {
    "slideshow": {
     "slide_type": "slide"
    }
   },
   "source": [
    "# The Built in \"User Interface Tour\" is quite good. "
   ]
  },
  {
   "cell_type": "markdown",
   "metadata": {
    "slideshow": {
     "slide_type": "slide"
    }
   },
   "source": [
    "A **kernel** is a process running an interactive session. When using Jupyter, this kernel is a Python process. There are kernels in many languages other than Python.\n",
    "\n",
    "In Jupyter, notebooks and kernels are strongly separated. A notebook is a file, whereas a kernel is a process. The kernel receives snippets of code from the Notebook interface, executes them, and sends the outputs and possible errors back to the Notebook interface. "
   ]
  }
 ],
 "metadata": {
  "celltoolbar": "Slideshow",
  "kernelspec": {
   "display_name": "Python 3",
   "language": "python",
   "name": "python3"
  },
  "language_info": {
   "codemirror_mode": {
    "name": "ipython",
    "version": 3
   },
   "file_extension": ".py",
   "mimetype": "text/x-python",
   "name": "python",
   "nbconvert_exporter": "python",
   "pygments_lexer": "ipython3",
   "version": "3.6.0"
  }
 },
 "nbformat": 4,
 "nbformat_minor": 2
}

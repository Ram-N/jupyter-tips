{
 "cells": [
  {
   "cell_type": "markdown",
   "metadata": {
    "slideshow": {
     "slide_type": "slide"
    }
   },
   "source": [
    "\n",
    "\n",
    "# Jupyter Tips & Tricks\n",
    "\n",
    "** Advanced **\n",
    "## Github: https://github.com/Ram-N/jupyter-tips\n",
    "\n",
    "\n",
    "This notebook has slightly advanced topics. It assumes that you have been using Jupyter for a while and know the basics.\n",
    "(If you are absolutely new to Jupyter, start with the Notebook that contains the Basic tips.)\n",
    "\n",
    "Of course, Advanced is a very relative term. For the purpose of this notebook, advanced just means that it is just beyond a \"basic\" tip.\n",
    "\n",
    "<br><br><br>\n",
    "\n",
    "Ram Narasimhan"
   ]
  },
  {
   "cell_type": "markdown",
   "metadata": {
    "slideshow": {
     "slide_type": "slide"
    }
   },
   "source": [
    "If you don't have Jupyter Installed:\n",
    "\n",
    "# https://try.jupyter.org/\n",
    "\n",
    "### Go to the New button and launch a Python 3 notebook"
   ]
  },
  {
   "cell_type": "markdown",
   "metadata": {
    "collapsed": true,
    "slideshow": {
     "slide_type": "slide"
    }
   },
   "source": [
    "# What we will cover\n",
    "\n",
    "- [Cell-Related Tips](#cell)\n",
    "- [Tips related to Getting Help](#help)\n",
    "- [Notebook-related Tips](#nbk)\n",
    "- [Aesthetics-Related Tips](#aes)\n",
    "- [HTML-Related Tips](#html)\n",
    "- [Shell-related Tips](#shell)\n",
    "- [Python-related Jupyter Tips](#python)\n"
   ]
  },
  {
   "cell_type": "markdown",
   "metadata": {
    "slideshow": {
     "slide_type": "slide"
    }
   },
   "source": [
    "<a id=\"cell\"></a>\n",
    "# <div class=\"alert alert-block alert-warning\"> Section: Cell Related Tips </div>\n"
   ]
  },
  {
   "cell_type": "markdown",
   "metadata": {
    "slideshow": {
     "slide_type": "slide"
    }
   },
   "source": [
    "### <font color='blue'> Cell-Related Tip (CELL)</font>\n",
    "\n",
    "\n",
    "# Q: What is the difference between Cell Output and Kernel Output?\n"
   ]
  },
  {
   "cell_type": "code",
   "execution_count": 8,
   "metadata": {
    "scrolled": true,
    "slideshow": {
     "slide_type": "slide"
    }
   },
   "outputs": [
    {
     "name": "stdout",
     "output_type": "stream",
     "text": [
      "3\n"
     ]
    },
    {
     "data": {
      "text/plain": [
       "1"
      ]
     },
     "execution_count": 8,
     "metadata": {},
     "output_type": "execute_result"
    }
   ],
   "source": [
    "# If you run (execute) this cell, you will notice two types of output.\n",
    "# The '3' is printed by the kernel (sysout), but the 1 is the \"Cell Output.\" \n",
    "# Note that cell output has the `Out[number]` associated with it\n",
    "\n",
    "x = 3\n",
    "print(x)\n",
    "\n",
    "def abc():\n",
    "    return(1)\n",
    "\n",
    "abc()\n"
   ]
  },
  {
   "cell_type": "markdown",
   "metadata": {
    "slideshow": {
     "slide_type": "slide"
    }
   },
   "source": [
    "### <font color='blue'> Cell-Related Tip (CELL)</font>\n",
    "\n",
    "# Q: When is Kernel Output preferred, over Cell Output?\n"
   ]
  },
  {
   "cell_type": "markdown",
   "metadata": {
    "slideshow": {
     "slide_type": "slide"
    }
   },
   "source": [
    "If you use cell output, then that has to be taken care of when you convert your notebook into a Python script. Cell output is very useful for interactively checking things, debugging etc. One of Jupyter's main strengths is interactivity, so the cell output is one of its main features"
   ]
  },
  {
   "cell_type": "markdown",
   "metadata": {
    "slideshow": {
     "slide_type": "slide"
    }
   },
   "source": [
    "\n",
    "### <font color='blue'> Cell-Related Tip (CELL)</font>\n",
    "\n",
    "# Q: How to suppress Cell Output?\n"
   ]
  },
  {
   "cell_type": "code",
   "execution_count": null,
   "metadata": {
    "collapsed": true,
    "scrolled": true,
    "slideshow": {
     "slide_type": "slide"
    }
   },
   "outputs": [],
   "source": [
    "#Just use a semi-colon. Useful if you are running a whole lot of cells at one time and are not interested in each output\n",
    "x = 3\n",
    "#print(x)\n",
    "x;\n"
   ]
  },
  {
   "cell_type": "markdown",
   "metadata": {
    "slideshow": {
     "slide_type": "slide"
    }
   },
   "source": [
    "<a id=\"help\"></a>\n",
    "# <div class=\"alert alert-block alert-warning\"> Section: Tips related to Getting Help</div>\n",
    "\n",
    "Jupyter comes pre-packaged with Excellent Help. \n",
    "All we have to do is know where to look!"
   ]
  },
  {
   "cell_type": "markdown",
   "metadata": {
    "slideshow": {
     "slide_type": "slide"
    }
   },
   "source": [
    "### <font color='blue'>  Help-Related Tip (HELP-2)</font>\n",
    "\n",
    "# Q: How to bring up Keyboard Shortcuts?\n",
    "\n"
   ]
  },
  {
   "cell_type": "markdown",
   "metadata": {
    "slideshow": {
     "slide_type": "slide"
    }
   },
   "source": [
    "## Tip: Just type the letter 'H'\n",
    "\n",
    "Note: Also point out the Command Palette"
   ]
  },
  {
   "cell_type": "markdown",
   "metadata": {
    "slideshow": {
     "slide_type": "slide"
    }
   },
   "source": [
    "### HELP-RELATED TIP \n",
    "\n",
    "# Q: How to see which methods are available in a Python module?"
   ]
  },
  {
   "cell_type": "markdown",
   "metadata": {
    "slideshow": {
     "slide_type": "fragment"
    }
   },
   "source": [
    "### Tip: First, you have to import the python module, so that it is in the notebook's namespace.\n",
    "#### Now, In a cell, type the name of the module, and then hit Tab (Import the module first)\n",
    "If you have imported the module, all its methods will be shown to you as a drop-down.\n",
    "    "
   ]
  },
  {
   "cell_type": "code",
   "execution_count": null,
   "metadata": {
    "collapsed": true,
    "slideshow": {
     "slide_type": "slide"
    }
   },
   "outputs": [],
   "source": [
    "import sys\n",
    "sys. #now hit tab. It will show the arguments at the very top of a big dropdown"
   ]
  },
  {
   "cell_type": "markdown",
   "metadata": {
    "slideshow": {
     "slide_type": "slide"
    }
   },
   "source": [
    "<a id=\"nbk\"></a>\n",
    "# <div class=\"alert alert-block alert-warning\"> Section: Notebook-Related Tips </div>\n"
   ]
  },
  {
   "cell_type": "markdown",
   "metadata": {
    "slideshow": {
     "slide_type": "slide"
    }
   },
   "source": [
    "### Notebook Related Tip (NBK-3)\n",
    "\n",
    "## Q: How to see which Notebooks are 'active'?"
   ]
  },
  {
   "cell_type": "markdown",
   "metadata": {
    "slideshow": {
     "slide_type": "slide"
    }
   },
   "source": [
    "#### Tip: In the 'Notebooks Dashboard' those appear in a different color (Green)\n",
    "\n",
    "<img src=\"images/active1.jpg\" width=800>"
   ]
  },
  {
   "cell_type": "markdown",
   "metadata": {
    "slideshow": {
     "slide_type": "slide"
    }
   },
   "source": [
    "### Tip: The Running 'Tab' shows all the active notebooks\n",
    "<img src=\"images/running2.png\" width=500>"
   ]
  },
  {
   "cell_type": "markdown",
   "metadata": {
    "slideshow": {
     "slide_type": "slide"
    }
   },
   "source": [
    "### Notebook Related Tip (NBK-4)\n",
    "\n",
    "## Q: How to Clear all output from a Notebook?\n",
    "\n",
    "Option 1 : Menu Cell --> All Output --> Clear\n",
    "\n",
    "Note: This only *removed* the display of the output. All the variables are still in memory. To remove them completely..."
   ]
  },
  {
   "cell_type": "markdown",
   "metadata": {
    "slideshow": {
     "slide_type": "slide"
    }
   },
   "source": [
    "### Notebook Related Tip (NBK-5)\n",
    "\n",
    "## Q: How to Clear all variables from a Notebook's memory?\n",
    "\n",
    "To completely clear out all variables, you have to **restart.**\n",
    "\n",
    "Option 1 : Menu Kernel --> Restart and Clear Output.\n",
    "\n",
    "Note: You can click *Yes*, when it verifies that you indeed want to kill the kernel"
   ]
  },
  {
   "cell_type": "markdown",
   "metadata": {
    "slideshow": {
     "slide_type": "slide"
    }
   },
   "source": [
    "### Notebook Related Tip (NBK-6)\n",
    "\n",
    "## Q: How to copy one or more cells from One Notebook to Another?\n",
    "\n"
   ]
  },
  {
   "cell_type": "markdown",
   "metadata": {
    "slideshow": {
     "slide_type": "fragment"
    }
   },
   "source": [
    "Step 1: In the original notebook, select the multiple cells you wish to copy\n",
    "\n",
    "Step 2: CONTROL-C to copy the cells to clipboard <br>\n",
    "Step 3: In the target notebook, use CONTROL-V to Paste all those cells <br>"
   ]
  },
  {
   "cell_type": "markdown",
   "metadata": {
    "slideshow": {
     "slide_type": "slide"
    }
   },
   "source": [
    "<a id=\"aes\"></a>\n",
    "# <div class=\"alert alert-block alert-warning\"> Section: Aesthetics: Look & Feel- Related Tips </div>\n"
   ]
  },
  {
   "cell_type": "markdown",
   "metadata": {
    "slideshow": {
     "slide_type": "slide"
    }
   },
   "source": [
    "# <div class=\"alert alert-block alert-success\"> Embedding Pictures & Videos  </div>"
   ]
  },
  {
   "cell_type": "markdown",
   "metadata": {
    "slideshow": {
     "slide_type": "slide"
    }
   },
   "source": [
    "### Aesthetics Related Tip \n",
    "\n",
    "# Q: How to embed an Image in a Jupyter Cell?"
   ]
  },
  {
   "cell_type": "markdown",
   "metadata": {
    "slideshow": {
     "slide_type": "slide"
    }
   },
   "source": [
    "### Aesthetics Related Tip (AES-1)\n",
    "\n",
    "\n",
    "## Tip: Simplest: Embed the picture using Markdown\n",
    "\n",
    "`![image](link/to/image)`\n"
   ]
  },
  {
   "cell_type": "markdown",
   "metadata": {
    "slideshow": {
     "slide_type": "slide"
    }
   },
   "source": [
    "![Image of dtree](https://raw.githubusercontent.com/Ram-N/images/master/dtree.JPG)\n"
   ]
  },
  {
   "cell_type": "markdown",
   "metadata": {
    "slideshow": {
     "slide_type": "slide"
    }
   },
   "source": [
    "### Aesthetics Related Tip (AES-2)\n",
    "\n",
    "## Tip: Embed the picture using the `<img>` tag\n",
    "Gives better control\n",
    "### `<img src = \"images/flower.jpg\", width=\"500\" align=\"right\">`\n"
   ]
  },
  {
   "cell_type": "markdown",
   "metadata": {
    "slideshow": {
     "slide_type": "slide"
    }
   },
   "source": [
    "<img src = \"images/flower.jpg\", width=\"300\" align=\"right\">\n",
    "Meanwhile, we can add lots of text on the rest of the cell. It does wrap-around.\n",
    "Note: The cell type is Markdown. Also notice that the `<img> tag` gives us better control over placement. This level of control was not easily possible with the Markdown Image tag."
   ]
  },
  {
   "cell_type": "markdown",
   "metadata": {
    "slideshow": {
     "slide_type": "slide"
    }
   },
   "source": [
    "### <font color='blue'>  Aesthetics Related Tip (AES-3)</font>\n",
    "\n",
    "\n",
    "A third way to embed a picture is using the `HTML` and `Image` python modules.\n",
    "\n",
    "## Tip: Embed a picture using Python (importing Image and HTML modules)\n"
   ]
  },
  {
   "cell_type": "code",
   "execution_count": 4,
   "metadata": {
    "slideshow": {
     "slide_type": "slide"
    }
   },
   "outputs": [
    {
     "data": {
      "image/jpeg": "[encoded data removed]",
      "text/plain": [
       "<IPython.core.display.Image object>"
      ]
     },
     "execution_count": 4,
     "metadata": {
      "image/jpeg": {
       "height": 400,
       "width": 600
      }
     },
     "output_type": "execute_result"
    }
   ],
   "source": [
    "from IPython.display import Image, HTML\n",
    "#from IPython.core.display import HTML \n",
    "PATH = \"images/\"\n",
    "Image(filename = PATH+\"logo.jpg\", width=600, height=400)"
   ]
  },
  {
   "cell_type": "markdown",
   "metadata": {
    "slideshow": {
     "slide_type": "slide"
    }
   },
   "source": [
    "### <font color='blue'>  Aesthetics Related Tip (AES-4)</font>\n",
    "\n",
    "# Q: How to embed a video in a Jupyter Cell?"
   ]
  },
  {
   "cell_type": "code",
   "execution_count": 5,
   "metadata": {
    "slideshow": {
     "slide_type": "slide"
    }
   },
   "outputs": [
    {
     "data": {
      "image/jpeg": "[encoded data removed]",
      "text/html": [
       "\n",
       "        <iframe\n",
       "            width=\"400\"\n",
       "            height=\"300\"\n",
       "            src=\"https://www.youtube.com/embed/hAzETelnBz4\"\n",
       "            frameborder=\"0\"\n",
       "            allowfullscreen\n",
       "        ></iframe>\n",
       "        "
      ],
      "text/plain": [
       "<IPython.lib.display.YouTubeVideo at 0x4d23dd8>"
      ]
     },
     "execution_count": 5,
     "metadata": {},
     "output_type": "execute_result"
    }
   ],
   "source": [
    "from IPython.display import YouTubeVideo\n",
    "YouTubeVideo('hAzETelnBz4') # The string is the unique video ID that YouTube uses"
   ]
  },
  {
   "cell_type": "markdown",
   "metadata": {
    "slideshow": {
     "slide_type": "slide"
    }
   },
   "source": [
    "### You can also Embed any video from Vimeo similary. \n",
    "Just have to import the VimeoVideo module."
   ]
  },
  {
   "cell_type": "code",
   "execution_count": 2,
   "metadata": {
    "slideshow": {
     "slide_type": "slide"
    }
   },
   "outputs": [
    {
     "data": {
      "text/html": [
       "\n",
       "        <iframe\n",
       "            width=\"400\"\n",
       "            height=\"350\"\n",
       "            src=\"https://player.vimeo.com/video/29903598\"\n",
       "            frameborder=\"0\"\n",
       "            allowfullscreen\n",
       "        ></iframe>\n",
       "        "
      ],
      "text/plain": [
       "<IPython.lib.display.VimeoVideo at 0x4dca240>"
      ]
     },
     "execution_count": 2,
     "metadata": {},
     "output_type": "execute_result"
    }
   ],
   "source": [
    "from IPython.display import VimeoVideo\n",
    "VimeoVideo('29903598', width=400, height=350)\n",
    "#https://vimeo.com/29903598\n"
   ]
  },
  {
   "cell_type": "markdown",
   "metadata": {
    "slideshow": {
     "slide_type": "slide"
    }
   },
   "source": [
    "For the following feature to work, you need to download and install the 'microscope.html' file from the resources directory. \n",
    "(At present the image file is hard-coded in the html script. You can change it for your own needs. Just edit the path at the bottom of the `microscope.html` file.)"
   ]
  },
  {
   "cell_type": "code",
   "execution_count": 15,
   "metadata": {
    "slideshow": {
     "slide_type": "slide"
    }
   },
   "outputs": [
    {
     "data": {
      "text/html": [
       "<script type=\"text/javascript\" src=\"code.jquery.com/jquery-latest.min.js\"></script>\n",
       "\n",
       "<script>\n",
       "jQuery(document).ready(function(){\n",
       "\n",
       "\tvar native_width = 0;\n",
       "\tvar native_height = 0;\n",
       "  $(\".large\").css(\"background\",\"url('\" + $(\".small\").attr(\"src\") + \"') no-repeat\");\n",
       "\n",
       "\t$(\".magnify\").mousemove(function(e){\n",
       "\t\tif(!native_width && !native_height)\n",
       "\t\t{\n",
       "\t\t\tvar image_object = new Image();\n",
       "\t\t\timage_object.src = $(\".small\").attr(\"src\");\n",
       "\t\t\tnative_width = image_object.width;\n",
       "\t\t\tnative_height = image_object.height;\n",
       "\t\t}\n",
       "\t\telse\n",
       "\t\t{\n",
       "\t\t\tvar magnify_offset = $(this).offset();\n",
       "\t\t\tvar mx = e.pageX - magnify_offset.left;\n",
       "\t\t\tvar my = e.pageY - magnify_offset.top;\n",
       "\t\t\t\n",
       "\t\t\tif(mx < $(this).width() && my < $(this).height() && mx > 0 && my > 0)\n",
       "\t\t\t{\n",
       "\t\t\t\t$(\".large\").fadeIn(100);\n",
       "\t\t\t}\n",
       "\t\t\telse\n",
       "\t\t\t{\n",
       "\t\t\t\t$(\".large\").fadeOut(100);\n",
       "\t\t\t}\n",
       "\t\t\tif($(\".large\").is(\":visible\"))\n",
       "\t\t\t{\n",
       "\n",
       "\t\t\t\tvar rx = Math.round(mx/$(\".small\").width()*native_width - $(\".large\").width()/2)*-1;\n",
       "\t\t\t\tvar ry = Math.round(my/$(\".small\").height()*native_height - $(\".large\").height()/2)*-1;\n",
       "\t\t\t\tvar bgp = rx + \"px \" + ry + \"px\";\n",
       "\t\t\t\t\n",
       "\t\t\t\tvar px = mx - $(\".large\").width()/2;\n",
       "\t\t\t\tvar py = my - $(\".large\").height()/2;\n",
       "\n",
       "\t\t\t\t$(\".large\").css({left: px, top: py, backgroundPosition: bgp});\n",
       "\t\t\t}\n",
       "\t\t}\n",
       "\t})\n",
       "})\n",
       "\n",
       "</script>\n",
       "\n",
       "<style>\n",
       "* {margin: 0; padding: 0;}\n",
       ".magnify {width: 400px; margin: 50px auto; position: relative; cursor: none}\n",
       "\n",
       ".large {\n",
       "\twidth: 200px; height: 200px;\n",
       "\tposition: absolute;\n",
       "\tborder-radius: 100%;\n",
       "\t\n",
       "\tbox-shadow: 0 0 0 7px rgba(255, 255, 255, 0.85), \n",
       "\t0 0 7px 7px rgba(0, 0, 0, 0.25), \n",
       "\tinset 0 0 40px 2px rgba(0, 0, 0, 0.25);\n",
       "\t\n",
       "\tdisplay: none;\n",
       "}\n",
       "\n",
       ".small { display: block; }\n",
       "</style>\n",
       "\n",
       "<div class=\"magnify\">\n",
       "\t\n",
       "\t<div class=\"large\"></div>\n",
       "\t\n",
       "\t<img class=\"small\" src=\"images/flower.jpg\" width=\"100\"/>\n",
       "\t\n",
       "</div>"
      ],
      "text/plain": [
       "<IPython.core.display.HTML object>"
      ]
     },
     "execution_count": 15,
     "metadata": {},
     "output_type": "execute_result"
    }
   ],
   "source": [
    "from IPython.display import HTML\n",
    "HTML('resources/microscope.html') #image file is mentioned in this file, under the resources folder\n"
   ]
  },
  {
   "cell_type": "markdown",
   "metadata": {
    "slideshow": {
     "slide_type": "slide"
    }
   },
   "source": [
    "<a id=\"html\"></a>\n",
    "\n",
    "# <div class=\"alert alert-block alert-warning\"> Section: HTML-Related Jupyter Tips </div>\n"
   ]
  },
  {
   "cell_type": "markdown",
   "metadata": {
    "collapsed": true,
    "slideshow": {
     "slide_type": "slide"
    }
   },
   "source": [
    "- [section title](#section_ID)\n",
    "- [Jump to How to make inline anchors](#anchor)\n"
   ]
  },
  {
   "cell_type": "markdown",
   "metadata": {
    "slideshow": {
     "slide_type": "slide"
    }
   },
   "source": [
    "\n",
    "### <font color='blue'>  HTML Related Tip (HTML-1)</font>\n",
    "\n",
    "# How to create Links to External URL?"
   ]
  },
  {
   "cell_type": "markdown",
   "metadata": {
    "collapsed": true,
    "slideshow": {
     "slide_type": "fragment"
    }
   },
   "source": [
    "### TIP: Put the link text within square brackets, and the external URL inside parenthesis.\n",
    "\n",
    "## `[link text](http://url) : External Link`\n",
    "\n",
    "For example: in following: \n",
    "\n",
    "__[ACM SF BAY](http://http://www.sfbayacm.org/data-science-camp-2017/)__ : is an External Link to the ACM SF website\n",
    "\n"
   ]
  },
  {
   "cell_type": "markdown",
   "metadata": {
    "slideshow": {
     "slide_type": "slide"
    }
   },
   "source": [
    "\n",
    "### <font color='blue'>  HTML Related Tip (HTML-2)</font>\n",
    "\n",
    "# How to create a Link to some other place in the same notebook?\n",
    "(This is called an 'inline' link)"
   ]
  },
  {
   "cell_type": "markdown",
   "metadata": {
    "slideshow": {
     "slide_type": "slide"
    }
   },
   "source": [
    "<a id =\"anchor\"></a>\n",
    "\n",
    "## Inline anchors. \n",
    "\n",
    "These can be quite useful in Navigating a large notebook. In a **Markdown cell**, which is the target cell, simply place an anchor tag, with a unique ID.\n",
    "\n",
    "`<a id = \"id_name\"></a>` This is the *target* cell.\n",
    "\n",
    "In any other Markdown cell, to provide a link to the target, add: \n",
    "\n",
    "`[Description of Target](#id_name)` Now when you click on the link, it will jump straight to the Target cell.\n"
   ]
  },
  {
   "cell_type": "markdown",
   "metadata": {
    "slideshow": {
     "slide_type": "slide"
    }
   },
   "source": [
    "\n",
    "### <font color='blue'>  HTML Related Tip (HTML-3)</font>\n",
    "\n",
    "# How to create Text with different font colors?\n"
   ]
  },
  {
   "cell_type": "markdown",
   "metadata": {
    "slideshow": {
     "slide_type": "fragment"
    }
   },
   "source": [
    "## `<font color='blue'>  Blue colored Text </font>`\n",
    "## <font color='blue'>  Blue colored Text </font>\n",
    "\n",
    "Note: This sometimes doesn't work for some. (HTML5 compatibility.) In that case try: \n",
    "\n",
    "`<span style=\"color:blue\">Blue Colored Text </span>` <br>\n",
    "<span style=\"color:blue\">Blue Colored Text </span> "
   ]
  },
  {
   "cell_type": "markdown",
   "metadata": {
    "slideshow": {
     "slide_type": "slide"
    }
   },
   "source": [
    "\n",
    "### <font color='blue'>  HTML Related Tip (HTML-4)</font>\n",
    "\n",
    "# How to create Cells with Different Colored Backgrounds and Fonts?\n"
   ]
  },
  {
   "cell_type": "markdown",
   "metadata": {
    "slideshow": {
     "slide_type": "slide"
    }
   },
   "source": [
    "# `<div class=\"alert alert-block alert-info\">your string </div>`\n",
    "\n",
    "<div class=\"alert alert-block alert-info\">Tip: Use blue boxes for Tips and notes.</div>\n",
    "\n",
    "Note: This works because Jupyter uses a pre-defined css Stylesheet, with classes like \"alert\", \"alert-block\" etc. with defined properties"
   ]
  },
  {
   "cell_type": "markdown",
   "metadata": {
    "slideshow": {
     "slide_type": "slide"
    }
   },
   "source": [
    "Double click on this cell, to see the HTML code\n",
    "<div class=\"alert alert-block alert-warning\">Example: Use yellow boxes for examples that are not inside code cells, or use for mathematical formulas if needed.</div>\n",
    "<div class=\"alert alert-block alert-success\">Up to you: Use green boxes sparingly, and only for some specific purpose that the other boxes can't cover. For example, if you have a lot of related content to link to, maybe you decide to use green boxes for related links from each section of a notebook. </div>\n",
    "\n",
    "<div class=\"alert alert-block alert-danger\">**Use the red boxes very sparingly**</div>"
   ]
  },
  {
   "cell_type": "markdown",
   "metadata": {
    "slideshow": {
     "slide_type": "slide"
    }
   },
   "source": [
    "### <font color='blue'>  HTML Related Tip (HTML-5)</font>\n",
    "\n",
    "# How to make Python Display Different Fonts in your Notebooks?"
   ]
  },
  {
   "cell_type": "code",
   "execution_count": 23,
   "metadata": {
    "slideshow": {
     "slide_type": "slide"
    }
   },
   "outputs": [
    {
     "data": {
      "text/markdown": [
       "# *Python*"
      ],
      "text/plain": [
       "<IPython.core.display.Markdown object>"
      ]
     },
     "metadata": {},
     "output_type": "display_data"
    }
   ],
   "source": [
    "import numpy as np\n",
    "from IPython.display import Markdown, display\n",
    "def printmd(string):\n",
    "    display(Markdown(string))\n",
    "\n",
    "lst = [\"Python\", \"Data Science\", \"Machine Learning\"]\n",
    "    \n",
    "printmd('# *' + np.random.choice(lst) + '*') # notice how the result is decorated with Markdown"
   ]
  },
  {
   "cell_type": "markdown",
   "metadata": {
    "slideshow": {
     "slide_type": "slide"
    }
   },
   "source": [
    "<a id=\"shell\"></a>\n",
    "# <div class=\"alert alert-block alert-warning\"> Section: Cell Magic & Shell Related Jupyter Tips </div>\n"
   ]
  },
  {
   "cell_type": "markdown",
   "metadata": {
    "slideshow": {
     "slide_type": "slide"
    }
   },
   "source": [
    "### <font color='blue'>  CELL MAGIC & SHELL Tip (SHELL-1)</font>\n",
    "\n",
    "# Q: How to Run a shell command?\n",
    "\n",
    "Tip: Use !  and a cell command\n",
    "\n",
    "Switch to the companion Notebook to demonstrate"
   ]
  },
  {
   "cell_type": "markdown",
   "metadata": {
    "slideshow": {
     "slide_type": "slide"
    }
   },
   "source": [
    "### <font color='blue'>  CELL MAGIC & SHELL Tip (SHELL-2)</font>\n",
    "\n",
    "# Q: How to get a list of all Cell Magics\n",
    "\n",
    "Tip: %lsmagic"
   ]
  },
  {
   "cell_type": "markdown",
   "metadata": {
    "slideshow": {
     "slide_type": "slide"
    }
   },
   "source": [
    "### <font color='blue'>  CELL MAGIC & SHELL Tip (SHELL-3)</font>\n",
    "\n",
    "# Q: What is the difference between Line and Cell Magic?\n",
    "\n",
    "Switch to the Companion notebook to demonstrate..."
   ]
  },
  {
   "cell_type": "markdown",
   "metadata": {
    "slideshow": {
     "slide_type": "slide"
    }
   },
   "source": [
    "<a id=\"python\"></a>\n",
    "# <div class=\"alert alert-block alert-warning\"> Section: Python-Related Jupyter Tips </div>\n"
   ]
  },
  {
   "cell_type": "markdown",
   "metadata": {
    "slideshow": {
     "slide_type": "slide"
    }
   },
   "source": [
    "### <font color='blue'>  Python Tip (PYTHON-1)</font>\n",
    "\n",
    "# Q: How to check which version of Python you are using...\n",
    "\n",
    "Tip: Use `sys` and `version`"
   ]
  },
  {
   "cell_type": "code",
   "execution_count": null,
   "metadata": {
    "collapsed": true,
    "slideshow": {
     "slide_type": "slide"
    }
   },
   "outputs": [],
   "source": [
    "import sys\n",
    "print(sys.version)"
   ]
  },
  {
   "cell_type": "markdown",
   "metadata": {
    "slideshow": {
     "slide_type": "slide"
    }
   },
   "source": [
    "### <font color='blue'>  Python Tip (PYTHON-2)</font>\n",
    "\n",
    "# In Which Directory (Folder) is your iPython Notebook being stored?\n",
    "\n",
    "Tip: Two commands for you to try...\n",
    "\n",
    "!cd and %ls"
   ]
  },
  {
   "cell_type": "code",
   "execution_count": null,
   "metadata": {
    "collapsed": true,
    "slideshow": {
     "slide_type": "slide"
    }
   },
   "outputs": [],
   "source": [
    "!cd"
   ]
  },
  {
   "cell_type": "code",
   "execution_count": null,
   "metadata": {
    "collapsed": true,
    "slideshow": {
     "slide_type": "slide"
    }
   },
   "outputs": [],
   "source": [
    "%ls"
   ]
  },
  {
   "cell_type": "markdown",
   "metadata": {
    "slideshow": {
     "slide_type": "slide"
    }
   },
   "source": [
    "### <font color='blue'>  Python Tip (PYTHON-3)</font>\n",
    "\n",
    "# Q: How to find the current working directory?\n",
    "Tip: Use `os` and `os.getcwd()`"
   ]
  },
  {
   "cell_type": "code",
   "execution_count": null,
   "metadata": {
    "collapsed": true,
    "slideshow": {
     "slide_type": "slide"
    }
   },
   "outputs": [],
   "source": [
    "import os\n",
    "os.getcwd()"
   ]
  },
  {
   "cell_type": "markdown",
   "metadata": {
    "slideshow": {
     "slide_type": "slide"
    }
   },
   "source": [
    "### <font color='blue'>  Python Tip (PYTHON-4)</font>\n",
    "\n",
    "# Q: How to find all the *.ipynb files in a directory?\n",
    "\n",
    "Tip: Use `os` and `os.listdir()`"
   ]
  },
  {
   "cell_type": "code",
   "execution_count": 24,
   "metadata": {
    "slideshow": {
     "slide_type": "slide"
    }
   },
   "outputs": [
    {
     "name": "stdout",
     "output_type": "stream",
     "text": [
      "Companion notebook-Copy1.ipynb\n",
      "Companion notebook.ipynb\n",
      "Jupyter Tips and Tricks-Advanced.ipynb\n",
      "Jupyter Tips and Tricks.ipynb\n"
     ]
    }
   ],
   "source": [
    "import os\n",
    "for f in os.listdir():\n",
    "    if f.endswith('ipynb'):\n",
    "        print(f)\n"
   ]
  },
  {
   "cell_type": "markdown",
   "metadata": {
    "slideshow": {
     "slide_type": "slide"
    }
   },
   "source": [
    "### <font color='blue'>  Python Tip (PYTHON-5)</font>\n",
    "\n",
    "\n",
    "## How do you see all the functions in any module?"
   ]
  },
  {
   "cell_type": "code",
   "execution_count": null,
   "metadata": {
    "collapsed": true,
    "slideshow": {
     "slide_type": "slide"
    }
   },
   "outputs": [],
   "source": [
    "import os\n",
    "dir(os)"
   ]
  },
  {
   "cell_type": "code",
   "execution_count": null,
   "metadata": {
    "collapsed": true,
    "slideshow": {
     "slide_type": "slide"
    }
   },
   "outputs": [],
   "source": [
    "import math\n",
    "dir(math)"
   ]
  },
  {
   "cell_type": "markdown",
   "metadata": {
    "slideshow": {
     "slide_type": "slide"
    }
   },
   "source": [
    "### <font color='blue'>  Python Tip (PYTHON-6)</font>\n",
    "\n",
    "# How to see all the functions and classes that come pre-loaded with Python?\n",
    "\n"
   ]
  },
  {
   "cell_type": "code",
   "execution_count": null,
   "metadata": {
    "collapsed": true,
    "slideshow": {
     "slide_type": "slide"
    }
   },
   "outputs": [],
   "source": [
    "dir(__builtin__) #hit tab and demonstrate"
   ]
  },
  {
   "cell_type": "markdown",
   "metadata": {
    "slideshow": {
     "slide_type": "slide"
    }
   },
   "source": [
    "### <font color='blue'>  Python Tip (PYTHON-7)</font>\n",
    "\n",
    "# How to see all the Variables in a notebook's memory?\n"
   ]
  },
  {
   "cell_type": "code",
   "execution_count": 25,
   "metadata": {
    "slideshow": {
     "slide_type": "slide"
    }
   },
   "outputs": [
    {
     "name": "stdout",
     "output_type": "stream",
     "text": [
      "No variables match your requested type.\n"
     ]
    }
   ],
   "source": [
    "#Tip: Use the `% whos`\n",
    "%whos int"
   ]
  },
  {
   "cell_type": "markdown",
   "metadata": {
    "slideshow": {
     "slide_type": "slide"
    }
   },
   "source": [
    "![Questions](images/questions.png)"
   ]
  },
  {
   "cell_type": "markdown",
   "metadata": {
    "slideshow": {
     "slide_type": "slide"
    }
   },
   "source": [
    "# References & Acknowledgements\n",
    "\n",
    "- https://www.packtpub.com/books/content/basics-jupyter-notebook-and-\n",
    "- Jupyter Notebook interface explained at http://jupyter-notebook.readthedocs.org/en/latest/notebook.html\n",
    "- [Ten things you really should know about Jupyter (Youtube)](https://www.youtube.com/watch?v=FwUcJFSAfQw&t=1372s) Jakub's PyData talk\n",
    "\n",
    "People: Damian Avila, Doug Blank, Jakub Czakon, Hiro Shioi, Young Song \n"
   ]
  }
 ],
 "metadata": {
  "celltoolbar": "Slideshow",
  "kernelspec": {
   "display_name": "Python 3",
   "language": "python",
   "name": "python3"
  },
  "language_info": {
   "codemirror_mode": {
    "name": "ipython",
    "version": 3
   },
   "file_extension": ".py",
   "mimetype": "text/x-python",
   "name": "python",
   "nbconvert_exporter": "python",
   "pygments_lexer": "ipython3",
   "version": "3.6.0"
  }
 },
 "nbformat": 4,
 "nbformat_minor": 2
}
